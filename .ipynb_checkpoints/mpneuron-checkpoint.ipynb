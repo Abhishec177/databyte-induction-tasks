{
 "cells": [
  {
   "cell_type": "code",
   "execution_count": 5,
   "metadata": {},
   "outputs": [],
   "source": [
    "import numpy as np"
   ]
  },
  {
   "cell_type": "code",
   "execution_count": 6,
   "metadata": {},
   "outputs": [],
   "source": [
    "class MPNeuron:\n",
    "    no_inp = None\n",
    "    inputs = None\n",
    "    weights = None\n",
    "    thres = None\n",
    "    output = None\n",
    "    \n",
    "    def __init__(self):\n",
    "        self.no_inp = 3\n",
    "        self.inputs = np.array([1,1,1])\n",
    "        self.weights = np.array([1,1,1])\n",
    "        self.thres = 2.5\n",
    "        \n",
    "    def MP_Neuron_Input(self):\n",
    "        print('enter number of inputs')\n",
    "        self.no_inp = int(input())\n",
    "        self.inputs = np.zeros((self.no_inp,1))\n",
    "        self.weights = np.zeros((self.no_inp,1))\n",
    "        for i in range(0,self.no_inp):\n",
    "            print('enter the value of input no.' + str(i+1))\n",
    "            self.inputs[i] = int(input())\n",
    "        \n",
    "        for i in range(0,self.no_inp):\n",
    "            print('enter value of weight no.'+str(i+1)+' (+1 or -1 only).')\n",
    "            self.weights[i] = int(input())\n",
    "            \n",
    "        print('enter value of threshold theta:')\n",
    "        self.thres = float(input())\n",
    "        \n",
    "    def MP_Neuron_Input_given(self,inps):\n",
    "        self.no_inp = len(inps)\n",
    "        self.inputs = np.zeros((self.no_inp,1))\n",
    "        self.weights = np.zeros((self.no_inp,1))\n",
    "        for i in range(0,self.no_inp):\n",
    "            self.inputs[i] = inps[i]\n",
    "        \n",
    "        for i in range(0,self.no_inp):\n",
    "            print('enter value of weight no.'+str(i+1)+' (+1 or -1 only).')\n",
    "            self.weights[i] = int(input())\n",
    "            \n",
    "        print('enter value of threshold theta:')\n",
    "        self.thres = float(input())\n",
    "        \n",
    "        \n",
    "    def MP_Neuron_Evaluate(self):\n",
    "        sum = 0\n",
    "        for i in range(0,self.no_inp):\n",
    "            sum += self.inputs[i][0]*self.weights[i][0]\n",
    "        \n",
    "        if(sum<self.thres):\n",
    "            self.output = 0\n",
    "        else:\n",
    "            self.output = 1\n",
    "        "
   ]
  },
  {
   "cell_type": "code",
   "execution_count": 7,
   "metadata": {},
   "outputs": [],
   "source": [
    "a = MPNeuron()\n",
    "b = MPNeuron()\n",
    "c = MPNeuron()\n",
    "d = MPNeuron()"
   ]
  },
  {
   "cell_type": "code",
   "execution_count": 14,
   "metadata": {},
   "outputs": [
    {
     "name": "stdout",
     "output_type": "stream",
     "text": [
      "enter number of inputs\n",
      "1\n",
      "enter the value of input no.1\n",
      "0\n",
      "enter value of weight no.1 (+1 or -1 only).\n",
      "-1\n",
      "enter value of threshold theta:\n",
      "0\n"
     ]
    }
   ],
   "source": [
    "a.MP_Neuron_Input()"
   ]
  },
  {
   "cell_type": "code",
   "execution_count": 9,
   "metadata": {},
   "outputs": [
    {
     "name": "stdout",
     "output_type": "stream",
     "text": [
      "enter number of inputs\n",
      "1\n",
      "enter the value of input no.1\n",
      "1\n",
      "enter value of weight no.1 (+1 or -1 only).\n",
      "-1\n",
      "enter value of threshold theta:\n",
      "0\n"
     ]
    }
   ],
   "source": [
    "b.MP_Neuron_Input()"
   ]
  },
  {
   "cell_type": "code",
   "execution_count": 10,
   "metadata": {},
   "outputs": [
    {
     "name": "stdout",
     "output_type": "stream",
     "text": [
      "enter number of inputs\n",
      "1\n",
      "enter the value of input no.1\n",
      "1\n",
      "enter value of weight no.1 (+1 or -1 only).\n",
      "-1\n",
      "enter value of threshold theta:\n",
      "0\n"
     ]
    }
   ],
   "source": [
    "c.MP_Neuron_Input()"
   ]
  },
  {
   "cell_type": "code",
   "execution_count": 15,
   "metadata": {},
   "outputs": [
    {
     "data": {
      "text/plain": [
       "1"
      ]
     },
     "execution_count": 15,
     "metadata": {},
     "output_type": "execute_result"
    }
   ],
   "source": [
    "a.MP_Neuron_Evaluate()\n",
    "b.MP_Neuron_Evaluate()\n",
    "c.MP_Neuron_Evaluate()\n",
    "a.output"
   ]
  },
  {
   "cell_type": "code",
   "execution_count": 16,
   "metadata": {},
   "outputs": [
    {
     "name": "stdout",
     "output_type": "stream",
     "text": [
      "enter value of weight no.1 (+1 or -1 only).\n",
      "1\n",
      "enter value of weight no.2 (+1 or -1 only).\n",
      "1\n",
      "enter value of weight no.3 (+1 or -1 only).\n",
      "1\n",
      "enter value of threshold theta:\n",
      "1\n"
     ]
    }
   ],
   "source": [
    "d.MP_Neuron_Input_given([a.output,b.output,c.output])"
   ]
  },
  {
   "cell_type": "code",
   "execution_count": 17,
   "metadata": {},
   "outputs": [
    {
     "data": {
      "text/plain": [
       "1"
      ]
     },
     "execution_count": 17,
     "metadata": {},
     "output_type": "execute_result"
    }
   ],
   "source": [
    "d.MP_Neuron_Evaluate()\n",
    "d.output"
   ]
  },
  {
   "cell_type": "code",
   "execution_count": null,
   "metadata": {},
   "outputs": [],
   "source": []
  }
 ],
 "metadata": {
  "kernelspec": {
   "display_name": "Python 3",
   "language": "python",
   "name": "python3"
  },
  "language_info": {
   "codemirror_mode": {
    "name": "ipython",
    "version": 3
   },
   "file_extension": ".py",
   "mimetype": "text/x-python",
   "name": "python",
   "nbconvert_exporter": "python",
   "pygments_lexer": "ipython3",
   "version": "3.7.4"
  }
 },
 "nbformat": 4,
 "nbformat_minor": 2
}
